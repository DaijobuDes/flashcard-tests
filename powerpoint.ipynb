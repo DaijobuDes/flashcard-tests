{
 "cells": [
  {
   "cell_type": "code",
   "execution_count": 9,
   "id": "8996d240",
   "metadata": {},
   "outputs": [
    {
     "name": "stdout",
     "output_type": "stream",
     "text": [
      "True\n",
      "None\n",
      "None\n",
      "None\n",
      "None\n",
      "['This is a text', ' - ', 'lsdkfjsdlkfj', 'This is a number ', '1123453446754635']\n"
     ]
    }
   ],
   "source": [
    "import pptx\n",
    "\n",
    "data = pptx.Presentation(\"./test.pptx\")\n",
    "\n",
    "text_runs = []\n",
    "\n",
    "for slide in data.slides:\n",
    "    for shape in slide.shapes:\n",
    "        if not shape.has_text_frame:\n",
    "            continue\n",
    "            \n",
    "#         print(shape.text_frame.paragraphs)\n",
    "        for paragraph in shape.text_frame.paragraphs:\n",
    "#             print(paragraph.font.underline)\n",
    "            for run in paragraph.runs:\n",
    "                text_runs.append(run.text)\n",
    "                print(run.font.underline)\n",
    "                \n",
    "print(text_runs)"
   ]
  },
  {
   "cell_type": "code",
   "execution_count": null,
   "id": "75001cda",
   "metadata": {},
   "outputs": [],
   "source": []
  }
 ],
 "metadata": {
  "kernelspec": {
   "display_name": "Python 3",
   "language": "python",
   "name": "python3"
  },
  "language_info": {
   "codemirror_mode": {
    "name": "ipython",
    "version": 3
   },
   "file_extension": ".py",
   "mimetype": "text/x-python",
   "name": "python",
   "nbconvert_exporter": "python",
   "pygments_lexer": "ipython3",
   "version": "3.6.9"
  }
 },
 "nbformat": 4,
 "nbformat_minor": 5
}
